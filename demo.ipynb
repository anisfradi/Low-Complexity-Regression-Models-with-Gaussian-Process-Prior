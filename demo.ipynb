{
 "cells": [
  {
   "cell_type": "markdown",
   "metadata": {},
   "source": [
    "# import librairies"
   ]
  },
  {
   "cell_type": "code",
   "execution_count": null,
   "metadata": {},
   "outputs": [],
   "source": [
    "import math\n",
    "import numpy as np\n",
    "import matplotlib.pyplot as plt\n",
    "import scipy\n",
    "from scipy.spatial.distance import pdist, cdist, squareform\n",
    "from scipy.linalg import cholesky, cho_solve\n",
    "from scipy.stats import rdist\n",
    "from sklearn.metrics import mean_squared_error, r2_score"
   ]
  },
  {
   "cell_type": "markdown",
   "metadata": {},
   "source": [
    "# truncated Gaussian covariance "
   ]
  },
  {
   "cell_type": "code",
   "execution_count": null,
   "metadata": {},
   "outputs": [],
   "source": [
    "# define eigenvalues\n",
    "def eigenv_gaussian(j, e):\n",
    "    A = math.pow(e,2*(j-1))\n",
    "    B = math.pow(0.5*(1+np.sqrt(1+4*e*e))+e*e,j-1/2)\n",
    "    return A/B\n",
    "\n",
    "# define eigenfunctions\n",
    "def eigenf_gaussian(j, e, t):\n",
    "    A = np.sqrt(math.pow(1+4*e*e,1/4)/(2**(j-1)*math.factorial(j-1)))\n",
    "    B = np.exp(-2*e*e*t*t/(1+np.sqrt(1+4*e*e)))\n",
    "    C = scipy.special.eval_hermite(j-1,(1+4*e*e)**(1/4)*t )\n",
    "    return A*B*C\n",
    "\n",
    "# construct the truncated covariance function of order NT\n",
    "def GaussianCovariance(e, t, u, NT):\n",
    "    A = np.zeros((t.size,u.size))\n",
    "    for k in range(1, NT+1):\n",
    "        A += eigenv_gaussian(k,e)*np.multiply(eigenf_gaussian(k,e,t).reshape((t.size,1)),eigenf_gaussian(k,e,u).reshape((1, u.size)))\n",
    "    return A"
   ]
  },
  {
   "cell_type": "markdown",
   "metadata": {},
   "source": [
    "# derivative of truncated Gaussian covariance w.r.t to the parameter e "
   ]
  },
  {
   "cell_type": "code",
   "execution_count": null,
   "metadata": {},
   "outputs": [],
   "source": [
    "# define the derivative of eigenvalues \n",
    "def deigenv_gaussian(j, e):\n",
    "    D = 0.5*(1+np.sqrt(1+4*e*e))+e*e\n",
    "    A = 2*(j-1)*np.float_power(e,2*(j-1)-1)-np.float_power(e,2*(j-1))*(j-0.5)/D*(2*e*(1+4*e*e)**(-0.5)+2*e)\n",
    "    B = np.float_power(D, j-0.5)\n",
    "    return A/B\n",
    "\n",
    "# define the derivative of eigenfunctions \n",
    "def deigenf_gaussian(j,e,t):\n",
    "    A1 = np.float_power(1+4*e*e,1/4)/(np.float_power(2, j-1)*scipy.special.factorial(j-1))\n",
    "    A2 = A1**(-0.5)*e*(1+4*e*e)**(-3/4)/(2**(j-1)*scipy.special.factorial(j-1) )\n",
    "    A = A1**(0.5)\n",
    "    B = np.exp(-2*e*e*t*t/(1+np.sqrt(1+4*e*e)))\n",
    "    B1 = 1+np.sqrt(1+4*e*e)\n",
    "    B2 = -2*B*(2*e*t*t*B1-e*e*t*t*4*e*(1+4*e*e)**(-0.5))/B1**2\n",
    "    C = scipy.special.eval_hermite(j-1,(1+4*e*e)**(1/4)*t )\n",
    "    if j>1:\n",
    "        C1 = 2*(j-1)*t*2*e*(1+4*e*e)**(-3/4)*scipy.special.eval_hermite(j-2,(1+4*e*e)**(1/4)*t )\n",
    "    else:\n",
    "        C1 = 0\n",
    "    return (A2*B*C+A*B2*C+A*B*C1)\n",
    "\n",
    "# construct the derivative of truncated covariance function of order NT \n",
    "def DerivativeCovariance(e, t, u, NT):\n",
    "    A = np.zeros((t.size,u.size))\n",
    "    for k in range(1, NT+1):\n",
    "        A += deigenv_gaussian(k,e)*np.multiply(eigenf_gaussian(k,e,t).reshape((t.size,1)),eigenf_gaussian(k,e,u).reshape((1,u.size)))\n",
    "        A += eigenv_gaussian(k,e)*np.multiply(deigenf_gaussian(k,e,t).reshape((t.size,1)),eigenf_gaussian(k,e,u).reshape((1,u.size)))\n",
    "        A += eigenv_gaussian(k,e)*np.multiply(eigenf_gaussian(k,e,t).reshape((t.size,1)),deigenf_gaussian(k,e,u).reshape((1,u.size)))\n",
    "    return A"
   ]
  },
  {
   "cell_type": "markdown",
   "metadata": {},
   "source": [
    "# negative marginal log-likelihood "
   ]
  },
  {
   "cell_type": "code",
   "execution_count": null,
   "metadata": {},
   "outputs": [],
   "source": [
    "def GaussianLoglikelihood(e, x, y, NT):\n",
    "    Omega = GaussianCovariance(e, x, x, NT) + nugget*np.identity(x.size)\n",
    "    L = cholesky(Omega, lower = True)\n",
    "    A = 2*np.sum(np.log(np.diag(L))) \n",
    "    v = cho_solve((L, True), y.T)\n",
    "    B = np.inner(y,v)\n",
    "    return (A+B)/x.size"
   ]
  },
  {
   "cell_type": "markdown",
   "metadata": {},
   "source": [
    "# derivative of negative marginal log-likelihood"
   ]
  },
  {
   "cell_type": "code",
   "execution_count": null,
   "metadata": {},
   "outputs": [],
   "source": [
    "def DerivativeLoglikelihood(e, x, y, NT):\n",
    "    Omega = GaussianCovariance(e,x,x, NT) + nugget*np.identity(x.size)\n",
    "    L = cholesky(Omega, lower = True)\n",
    "    DerOmega = DerivativeCovariance(e, x, x, NT) \n",
    "    A = 0\n",
    "    for i in range(0, x.size):\n",
    "        u = cho_solve((L, True), [row[i] for row in DerOmega])\n",
    "        A += u[i]\n",
    "    v = cho_solve((L, True), y)\n",
    "    B = np.dot(np.dot(v,DerOmega),v)\n",
    "    return (A-B)/x.size"
   ]
  },
  {
   "cell_type": "markdown",
   "metadata": {},
   "source": [
    "# Learning the shape parameter of the Gaussian covariance e"
   ]
  },
  {
   "cell_type": "code",
   "execution_count": null,
   "metadata": {},
   "outputs": [],
   "source": [
    "ALPHA = 0.01 \n",
    "BETA = 0.02\n",
    "MaxLoop = 50\n",
    "\n",
    "def Optimize(e_0, x, y, NTT):\n",
    "    \n",
    "    def armijo(e, x, y, alpha, NT):\n",
    "        grad = DerivativeLoglikelihood(e, x, y, NT)\n",
    "        A = GaussianLoglikelihood(e-alpha*grad, x, y, NT) - GaussianLoglikelihood(e, x, y, NT)\n",
    "        B = -1*ALPHA*alpha*(grad**2)\n",
    "        res = A > B\n",
    "        if (e-alpha*grad < 0):\n",
    "            res = True\n",
    "        return res\n",
    "        \n",
    "    def backtrack(e, x, y, NT):\n",
    "        eps = 1\n",
    "        i = 1\n",
    "        while armijo(e,x,y,eps, NT) and i < MaxLoop:\n",
    "            eps = BETA*eps \n",
    "            i +=1\n",
    "        if i == MaxLoop:\n",
    "            eps = 0\n",
    "        return eps\n",
    "\n",
    "    res = GaussianLoglikelihood(e_0, x, y, NTT)\n",
    "    flag = True\n",
    "    i = 1\n",
    "    e = e_0\n",
    "    while flag and i < MaxLoop+50:\n",
    "        stepsize = backtrack(e, x, y, NTT)\n",
    "        grad = DerivativeLoglikelihood(e,x,y,NTT)\n",
    "        e -= stepsize*grad\n",
    "        nres = GaussianLoglikelihood(e,x,y,NTT)\n",
    "        if nres < res - 10**(-5):\n",
    "            flag = True\n",
    "        else:\n",
    "            flag = False \n",
    "        res = nres\n",
    "        i+=1\n",
    "    return e"
   ]
  },
  {
   "cell_type": "markdown",
   "metadata": {},
   "source": [
    "# Example"
   ]
  },
  {
   "cell_type": "code",
   "execution_count": null,
   "metadata": {},
   "outputs": [],
   "source": [
    "def True_function(x):\n",
    "    return np.squeeze(x * np.sin(10*x))\n",
    "\n",
    "nobs= 41 \n",
    "ntest=101\n",
    "x_obs = np.linspace(0,1,nobs) \n",
    "nugget = 1*10**(-1)\n",
    "y_obs = True_function(x_obs) + np.random.normal(scale=nugget,size=nobs) # scale=noise std\n",
    "\n",
    "x_predict = np.linspace(0,1,ntest) \n",
    "data_array = True_function(x_predict)\n",
    "plt.plot(x_obs ,y_obs)\n",
    "plt.show()\n",
    "\n",
    "x_data, y_data = x_obs, y_obs"
   ]
  },
  {
   "cell_type": "markdown",
   "metadata": {},
   "source": [
    "# find the optimal shape parameter e"
   ]
  },
  {
   "cell_type": "code",
   "execution_count": null,
   "metadata": {},
   "outputs": [],
   "source": [
    "e_0 = 20 # initial parameter\n",
    "N_gaussian = 30 # truncation order\n",
    "\n",
    "e = Optimize(e_0, x_data, y_data, N_gaussian)\n",
    "print('the optimal shape parameter is:',e)"
   ]
  },
  {
   "cell_type": "markdown",
   "metadata": {},
   "source": [
    "# find the mean and the std prediction"
   ]
  },
  {
   "cell_type": "code",
   "execution_count": null,
   "metadata": {},
   "outputs": [],
   "source": [
    "def GaussianPredict(e, X, y,  Xtest, NT):\n",
    "    if type(Xtest) == float:\n",
    "        Xtest = np.array(Xtest)\n",
    "    K_star = GaussianCovariance(e, X, Xtest, NT)\n",
    "    K = GaussianCovariance(e, X,X, NT) + nugget*np.identity(X.size)\n",
    "\n",
    "    L = np.linalg.cholesky(K )\n",
    "    Lk = np.linalg.solve(L, K_star)\n",
    "    mu = np.dot(Lk.T, np.linalg.solve(L, y))\n",
    "    K_ = GaussianCovariance(e, Xtest, Xtest, NT) \n",
    "    sd = np.sqrt(np.diag(K_) - np.sum(Lk**2, axis=0))\n",
    "    return (mu, sd)\n",
    "\n",
    "y_gaussian, sd_gaussian = GaussianPredict(e, x_data, y_data, x_predict, N_gaussian)"
   ]
  },
  {
   "cell_type": "markdown",
   "metadata": {},
   "source": [
    "# find different metrics for evaluation"
   ]
  },
  {
   "cell_type": "code",
   "execution_count": null,
   "metadata": {},
   "outputs": [],
   "source": [
    "Error = y_gaussian.reshape(data_array.shape) - data_array\n",
    "SquareError = np.square(Error)\n",
    "ISEGaussian = np.trapz(SquareError, dx = 1/(data_array.size-1))# dx/3 * np.sum(yMS[0:-1:2] + 4*yMS[1::2] + yMS[2::2])\n",
    "MaxGaussian = np.max(np.absolute(Error))\n",
    "LLGaussian = GaussianLoglikelihood(e, x_data, y_data, N_gaussian)\n",
    "R2Gaussian = r2_score(data_array, y_gaussian)\n",
    "MSEG = mean_squared_error(data_array, y_gaussian)\n",
    "print('\\t mean squared error=', MSEG)\n",
    "print('\\t log marginal likelihood=', LLGaussian)\n",
    "print('\\t R-squared=', R2Gaussian)"
   ]
  },
  {
   "cell_type": "markdown",
   "metadata": {},
   "source": [
    "# Illustration"
   ]
  },
  {
   "cell_type": "code",
   "execution_count": null,
   "metadata": {},
   "outputs": [],
   "source": [
    "plt.figure(figsize=(10,10))\n",
    "plt.scatter(x_obs, y_obs,s=65, label=\"Observations\")\n",
    "plt.plot(x_predict, data_array, color='k', linewidth='3',label=\"True\",linestyle='--')\n",
    "plt.plot(x_predict, y_gaussian, color='red', linewidth = '2',label=\"Prediction\")\n",
    "plt.fill_between(\n",
    "    x_predict.ravel(),\n",
    "    y_gaussian - 1.96 * sd_gaussian,\n",
    "    y_gaussian + 1.96 * sd_gaussian,color='green',\n",
    "    alpha=0.2,\n",
    "    label=r\"confidence interval\",\n",
    ")\n",
    "plt.legend(loc='upper left')\n",
    "plt.ylim(-1, 1)"
   ]
  },
  {
   "cell_type": "code",
   "execution_count": null,
   "metadata": {},
   "outputs": [],
   "source": []
  }
 ],
 "metadata": {
  "kernelspec": {
   "display_name": "Python 3",
   "language": "python",
   "name": "python3"
  },
  "language_info": {
   "codemirror_mode": {
    "name": "ipython",
    "version": 3
   },
   "file_extension": ".py",
   "mimetype": "text/x-python",
   "name": "python",
   "nbconvert_exporter": "python",
   "pygments_lexer": "ipython3",
   "version": "3.7.3"
  }
 },
 "nbformat": 4,
 "nbformat_minor": 5
}
